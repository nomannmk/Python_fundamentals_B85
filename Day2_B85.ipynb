{
 "cells": [
  {
   "cell_type": "code",
   "execution_count": null,
   "id": "d5994ac5",
   "metadata": {},
   "outputs": [],
   "source": [
    "Introdution to the python programming"
   ]
  },
  {
   "cell_type": "code",
   "execution_count": null,
   "id": "c3975270",
   "metadata": {},
   "outputs": [],
   "source": []
  },
  {
   "cell_type": "code",
   "execution_count": null,
   "id": "5d203c96",
   "metadata": {},
   "outputs": [],
   "source": [
    "Understanding the variables in python :"
   ]
  },
  {
   "cell_type": "code",
   "execution_count": 2,
   "id": "63d4e442",
   "metadata": {},
   "outputs": [
    {
     "name": "stdout",
     "output_type": "stream",
     "text": [
      "5\n"
     ]
    }
   ],
   "source": [
    "x =2\n",
    "y =3\n",
    "z = x+y\n",
    "print(z)"
   ]
  },
  {
   "cell_type": "code",
   "execution_count": null,
   "id": "54a9bacf",
   "metadata": {},
   "outputs": [],
   "source": []
  },
  {
   "cell_type": "code",
   "execution_count": null,
   "id": "a6de1087",
   "metadata": {},
   "outputs": [],
   "source": [
    "Rules for declaring the varibles in python :"
   ]
  },
  {
   "cell_type": "code",
   "execution_count": null,
   "id": "b068deea",
   "metadata": {},
   "outputs": [],
   "source": [
    "Rule no 1 : No Name spaces while declaring the variable name"
   ]
  },
  {
   "cell_type": "code",
   "execution_count": 2,
   "id": "04e69404",
   "metadata": {},
   "outputs": [
    {
     "ename": "SyntaxError",
     "evalue": "invalid syntax (3585015404.py, line 1)",
     "output_type": "error",
     "traceback": [
      "\u001b[1;36m  Cell \u001b[1;32mIn[2], line 1\u001b[1;36m\u001b[0m\n\u001b[1;33m    first name = 'Noman'\u001b[0m\n\u001b[1;37m          ^\u001b[0m\n\u001b[1;31mSyntaxError\u001b[0m\u001b[1;31m:\u001b[0m invalid syntax\n"
     ]
    }
   ],
   "source": [
    "first name = 'Noman'\n",
    "\n",
    "print(first name)"
   ]
  },
  {
   "cell_type": "code",
   "execution_count": 3,
   "id": "4213e5c7",
   "metadata": {},
   "outputs": [
    {
     "name": "stdout",
     "output_type": "stream",
     "text": [
      "Noman\n"
     ]
    }
   ],
   "source": [
    "firstname = 'Noman'\n",
    "\n",
    "print(firstname)"
   ]
  },
  {
   "cell_type": "code",
   "execution_count": null,
   "id": "b15b485a",
   "metadata": {},
   "outputs": [],
   "source": [
    "Rule no 2 : A variable name should not start with a number"
   ]
  },
  {
   "cell_type": "code",
   "execution_count": 5,
   "id": "c61a4028",
   "metadata": {},
   "outputs": [
    {
     "ename": "SyntaxError",
     "evalue": "invalid decimal literal (3904093589.py, line 1)",
     "output_type": "error",
     "traceback": [
      "\u001b[1;36m  Cell \u001b[1;32mIn[5], line 1\u001b[1;36m\u001b[0m\n\u001b[1;33m    1name = 'Noman'\u001b[0m\n\u001b[1;37m    ^\u001b[0m\n\u001b[1;31mSyntaxError\u001b[0m\u001b[1;31m:\u001b[0m invalid decimal literal\n"
     ]
    }
   ],
   "source": [
    "1name = 'Noman'\n",
    "\n",
    "print(1name)"
   ]
  },
  {
   "cell_type": "code",
   "execution_count": 6,
   "id": "c0bf2788",
   "metadata": {},
   "outputs": [
    {
     "name": "stdout",
     "output_type": "stream",
     "text": [
      "Noman\n"
     ]
    }
   ],
   "source": [
    "name1 = 'Noman'\n",
    "\n",
    "print(name1)"
   ]
  },
  {
   "cell_type": "code",
   "execution_count": null,
   "id": "2c0e4e61",
   "metadata": {},
   "outputs": [],
   "source": [
    "Rule no 3 : A variable should not contain any special characters"
   ]
  },
  {
   "cell_type": "code",
   "execution_count": null,
   "id": "35996c3c",
   "metadata": {},
   "outputs": [],
   "source": [
    "@#$%^&*()"
   ]
  },
  {
   "cell_type": "code",
   "execution_count": 7,
   "id": "7309cca1",
   "metadata": {},
   "outputs": [
    {
     "ename": "SyntaxError",
     "evalue": "invalid syntax (1049327555.py, line 1)",
     "output_type": "error",
     "traceback": [
      "\u001b[1;36m  Cell \u001b[1;32mIn[7], line 1\u001b[1;36m\u001b[0m\n\u001b[1;33m    name@ = 'Noman'\u001b[0m\n\u001b[1;37m          ^\u001b[0m\n\u001b[1;31mSyntaxError\u001b[0m\u001b[1;31m:\u001b[0m invalid syntax\n"
     ]
    }
   ],
   "source": [
    "name@ = 'Noman'\n",
    "\n",
    "print(name@)"
   ]
  },
  {
   "cell_type": "code",
   "execution_count": null,
   "id": "15d00a60",
   "metadata": {},
   "outputs": [],
   "source": [
    "Introduction to the datatypes in python :"
   ]
  },
  {
   "cell_type": "code",
   "execution_count": null,
   "id": "8beac41c",
   "metadata": {},
   "outputs": [],
   "source": [
    "1. String - str\n",
    "2.Numbers - integers(int) and float (decimals 0.1,0.2)\n",
    "3.List - list\n",
    "4.Tuples - tuple\n",
    "5.Dictionaries - dict"
   ]
  },
  {
   "cell_type": "code",
   "execution_count": null,
   "id": "34b20dd7",
   "metadata": {},
   "outputs": [],
   "source": [
    "Classification of datatypes :\n",
    "    Broadly datatypes are classified in the two categories:\n",
    "        1. Mutable datatypes - which we can able to edit and alter - flexible in nature\n",
    "        2. Immutable datatypes - which we cannot be able to edit and alter - fixed in nature"
   ]
  },
  {
   "cell_type": "code",
   "execution_count": null,
   "id": "5c8e35a9",
   "metadata": {},
   "outputs": [],
   "source": [
    "Def : A string is series of characters declared in quotes\n",
    "Classification : It is classified as an immutable datatype(Fixed datatype)\n",
    "    \n",
    "    how to define the string datatype ?\n",
    "    1. Single quote ''\n",
    "    2. Double quote \"\"\n",
    "    "
   ]
  },
  {
   "cell_type": "code",
   "execution_count": 8,
   "id": "832b6cde",
   "metadata": {},
   "outputs": [
    {
     "name": "stdout",
     "output_type": "stream",
     "text": [
      "Noman\n"
     ]
    }
   ],
   "source": [
    "name = 'Noman'\n",
    "\n",
    "print(name)"
   ]
  },
  {
   "cell_type": "code",
   "execution_count": 9,
   "id": "e6042741",
   "metadata": {},
   "outputs": [
    {
     "name": "stdout",
     "output_type": "stream",
     "text": [
      "Noman\n"
     ]
    }
   ],
   "source": [
    "name2 = \"Noman\"\n",
    "\n",
    "print(name2)"
   ]
  },
  {
   "cell_type": "code",
   "execution_count": null,
   "id": "7126846c",
   "metadata": {},
   "outputs": [],
   "source": [
    "Introduction to string methods :"
   ]
  },
  {
   "cell_type": "code",
   "execution_count": 10,
   "id": "d896fbf7",
   "metadata": {},
   "outputs": [
    {
     "data": {
      "text/plain": [
       "str"
      ]
     },
     "execution_count": 10,
     "metadata": {},
     "output_type": "execute_result"
    }
   ],
   "source": [
    "type(name)"
   ]
  },
  {
   "cell_type": "code",
   "execution_count": 11,
   "id": "9ba77b31",
   "metadata": {},
   "outputs": [
    {
     "data": {
      "text/plain": [
       "str"
      ]
     },
     "execution_count": 11,
     "metadata": {},
     "output_type": "execute_result"
    }
   ],
   "source": [
    "type(name2)"
   ]
  },
  {
   "cell_type": "code",
   "execution_count": null,
   "id": "882fb250",
   "metadata": {},
   "outputs": [],
   "source": []
  },
  {
   "cell_type": "code",
   "execution_count": 12,
   "id": "7938e87f",
   "metadata": {},
   "outputs": [
    {
     "name": "stdout",
     "output_type": "stream",
     "text": [
      "noman khan\n"
     ]
    }
   ],
   "source": [
    "fullname = 'noman khan'\n",
    "\n",
    "print(fullname)"
   ]
  },
  {
   "cell_type": "code",
   "execution_count": 13,
   "id": "f53a15e9",
   "metadata": {},
   "outputs": [
    {
     "name": "stdout",
     "output_type": "stream",
     "text": [
      "Noman Khan\n"
     ]
    }
   ],
   "source": [
    "print(fullname.title())"
   ]
  },
  {
   "cell_type": "code",
   "execution_count": null,
   "id": "cc97aa3e",
   "metadata": {},
   "outputs": [],
   "source": []
  }
 ],
 "metadata": {
  "kernelspec": {
   "display_name": "Python 3 (ipykernel)",
   "language": "python",
   "name": "python3"
  },
  "language_info": {
   "codemirror_mode": {
    "name": "ipython",
    "version": 3
   },
   "file_extension": ".py",
   "mimetype": "text/x-python",
   "name": "python",
   "nbconvert_exporter": "python",
   "pygments_lexer": "ipython3",
   "version": "3.11.5"
  }
 },
 "nbformat": 4,
 "nbformat_minor": 5
}
