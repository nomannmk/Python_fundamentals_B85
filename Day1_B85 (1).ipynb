{
 "cells": [
  {
   "cell_type": "code",
   "execution_count": 2,
   "id": "5018b968",
   "metadata": {},
   "outputs": [
    {
     "name": "stdout",
     "output_type": "stream",
     "text": [
      "Hello All Welcome To The Python Programming World!\n"
     ]
    }
   ],
   "source": [
    "print(\"Hello all welcome to the Python Programming World!\")"
   ]
  },
  {
   "cell_type": "code",
   "execution_count": null,
   "id": "8448c231",
   "metadata": {},
   "outputs": [],
   "source": [
    "Shift + Enter Button together for executing program."
   ]
  },
  {
   "cell_type": "code",
   "execution_count": null,
   "id": "8e914623",
   "metadata": {},
   "outputs": [],
   "source": []
  },
  {
   "cell_type": "code",
   "execution_count": null,
   "id": "2da82d11",
   "metadata": {},
   "outputs": [],
   "source": []
  },
  {
   "cell_type": "code",
   "execution_count": null,
   "id": "5f68b195",
   "metadata": {},
   "outputs": [],
   "source": []
  }
 ],
 "metadata": {
  "kernelspec": {
   "display_name": "Python 3 (ipykernel)",
   "language": "python",
   "name": "python3"
  },
  "language_info": {
   "codemirror_mode": {
    "name": "ipython",
    "version": 3
   },
   "file_extension": ".py",
   "mimetype": "text/x-python",
   "name": "python",
   "nbconvert_exporter": "python",
   "pygments_lexer": "ipython3",
   "version": "3.11.5"
  }
 },
 "nbformat": 4,
 "nbformat_minor": 5
}
